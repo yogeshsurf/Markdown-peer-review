{
 "cells": [
  {
   "cell_type": "markdown",
   "id": "d05c7245",
   "metadata": {},
   "source": [
    " # My Jupyter Notebook on IBM Watson Studio"
   ]
  },
  {
   "cell_type": "markdown",
   "id": "3f0a8ae1",
   "metadata": {},
   "source": [
    "**Yougendranath Kissoondary**\n",
    "I am currently working in finance and strategy "
   ]
  },
  {
   "cell_type": "markdown",
   "id": "c1f84eda",
   "metadata": {},
   "source": [
    "*I am interested in data sceince as I am keen to explore the application of data science in the field of investor return with regard to ESGvery keen to devlope my data science skills to apply in this field*"
   ]
  },
  {
   "cell_type": "markdown",
   "id": "c116e197",
   "metadata": {},
   "source": [
    "### a short sentence to introduce myself"
   ]
  },
  {
   "cell_type": "code",
   "execution_count": null,
   "id": "2cbce5d6",
   "metadata": {},
   "outputs": [],
   "source": [
    "print(\"My name is Yogesh Kissoondary and I live in Mauritius\")"
   ]
  },
  {
   "cell_type": "markdown",
   "id": "6d5086e9",
   "metadata": {},
   "source": [
    "**strikethrough**\n",
    "\n",
    "~~stike this~~\n",
    "\n",
    "**Table**\n",
    "\n",
    "|Table   |Example\n",
    "|--------|-------\n",
    "|IBM     |IBM\n",
    "\n",
    "**Blockquotes**\n",
    "\n",
    "> Blockquotes are very handy in email to emulate reply text.\n",
    "> This line is part of the same quote."
   ]
  },
  {
   "cell_type": "markdown",
   "id": "7af0d704",
   "metadata": {},
   "source": [
    "\n"
   ]
  }
 ],
 "metadata": {
  "kernelspec": {
   "display_name": "Python 3 (ipykernel)",
   "language": "python",
   "name": "python3"
  },
  "language_info": {
   "codemirror_mode": {
    "name": "ipython",
    "version": 3
   },
   "file_extension": ".py",
   "mimetype": "text/x-python",
   "name": "python",
   "nbconvert_exporter": "python",
   "pygments_lexer": "ipython3",
   "version": "3.9.7"
  }
 },
 "nbformat": 4,
 "nbformat_minor": 5
}
